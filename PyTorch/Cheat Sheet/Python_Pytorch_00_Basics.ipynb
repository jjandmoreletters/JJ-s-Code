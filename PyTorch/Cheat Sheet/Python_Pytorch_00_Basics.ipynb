{
 "cells": [
  {
   "cell_type": "markdown",
   "metadata": {
    "id": "2Va8G2ZJdgg3"
   },
   "source": [
    "## 00. Pytorch fundamentals\n",
    "\n",
    "Resource notebook: www.learnpytorch.io/00_pytorch_fundamentals/\n",
    "\n",
    "Github link: https://github.com/mrdbourke/pytorch-deep-learning"
   ]
  },
  {
   "cell_type": "code",
   "execution_count": null,
   "metadata": {
    "colab": {
     "base_uri": "https://localhost:8080/"
    },
    "id": "anHtJ24mc8ED",
    "outputId": "0fae9caf-d291-4c44-adc8-1a99151b30e4"
   },
   "outputs": [
    {
     "name": "stdout",
     "output_type": "stream",
     "text": [
      "2.3.0+cu121\n"
     ]
    }
   ],
   "source": [
    "#print(\"Learning Pytorch; will die\")\n",
    "import torch\n",
    "import pandas as pd\n",
    "import numpy as np\n",
    "import matplotlib.pyplot as plt\n",
    "print(torch.__version__)"
   ]
  },
  {
   "cell_type": "markdown",
   "metadata": {
    "id": "zq2WJBqKdnQR"
   },
   "source": [
    "## Introduction to Tensors-n dimensional matrixs\n",
    "\n",
    "### creating Tensors\n",
    "\n",
    "pytorch tensors are created via 'toch.tensor() - - -https://pytorch.org/docs/stable/tensors.html;"
   ]
  },
  {
   "cell_type": "code",
   "execution_count": null,
   "metadata": {
    "colab": {
     "base_uri": "https://localhost:8080/"
    },
    "id": "9fvJFArvfCA9",
    "outputId": "8d9e1f01-8d2c-4812-bd31-71d37f39caea"
   },
   "outputs": [
    {
     "name": "stdout",
     "output_type": "stream",
     "text": [
      "tensor(7)\n",
      "tensor([7, 7])\n",
      "tensor([[ 7,  8],\n",
      "        [ 9, 10]])\n"
     ]
    }
   ],
   "source": [
    "#scalar\n",
    "#torch.tensor for creating\n",
    "scalar=torch.tensor(7)\n",
    "print(scalar)\n",
    "\n",
    "#vector\n",
    "vector=torch.tensor([7,7])\n",
    "\n",
    "print(vector)\n",
    "\n",
    "#matrix\n",
    "MATRIX=torch.tensor([[7,8],[9,10]])\n",
    "print(MATRIX)"
   ]
  },
  {
   "cell_type": "code",
   "execution_count": null,
   "metadata": {
    "colab": {
     "base_uri": "https://localhost:8080/"
    },
    "id": "bNWkaFnnfCz3",
    "outputId": "d6c424d2-edbc-4d9c-ea4b-affea113a05d"
   },
   "outputs": [
    {
     "name": "stdout",
     "output_type": "stream",
     "text": [
      "0 torch.Size([])\n",
      "1 torch.Size([2])\n",
      "2 torch.Size([2, 2])\n"
     ]
    }
   ],
   "source": [
    "print(scalar.ndim, scalar.shape)\n",
    "print(vector.ndim, vector.shape)\n",
    "print(MATRIX.ndim, MATRIX.shape)"
   ]
  },
  {
   "cell_type": "code",
   "execution_count": null,
   "metadata": {
    "colab": {
     "base_uri": "https://localhost:8080/"
    },
    "id": "fBZK6mq3f6xA",
    "outputId": "90912855-491a-41e3-d657-d1251cb13ba7"
   },
   "outputs": [
    {
     "name": "stdout",
     "output_type": "stream",
     "text": [
      "tensor([[[1, 2, 3],\n",
      "         [4, 5, 6],\n",
      "         [7, 8, 9]]]) 3 torch.Size([1, 3, 3])\n"
     ]
    }
   ],
   "source": [
    "#TENSOR\n",
    "TENSOR=torch.tensor([[[1,2,3],[4,5,6],[7,8,9]]])\n",
    "print(TENSOR, TENSOR.ndim, TENSOR.shape)"
   ]
  },
  {
   "cell_type": "markdown",
   "metadata": {
    "id": "U-EFKzIQgyo3"
   },
   "source": [
    "###Random Tensors\n",
    "\n",
    "Random Tensors are important as neural networks start with random numbers and adjust them to better represent the data.\n",
    "\n",
    "'Start with random numbers->look at data-> update random numbers->look at data->update number"
   ]
  },
  {
   "cell_type": "code",
   "execution_count": null,
   "metadata": {
    "colab": {
     "base_uri": "https://localhost:8080/"
    },
    "id": "YtUby1_Dha6q",
    "outputId": "2c06ee38-2b4f-4286-85ee-eeb83dea7812"
   },
   "outputs": [
    {
     "data": {
      "text/plain": [
       "(torch.Size([224, 224, 3]), 3)"
      ]
     },
     "execution_count": 9,
     "metadata": {},
     "output_type": "execute_result"
    }
   ],
   "source": [
    "#create random tensor size (3,4)\n",
    "random_tensor=torch.rand(3,4)\n",
    "random_tensor\n",
    "\n",
    "#create random tensor into similar shape to image tensor\n",
    "random_image_tensor=torch.rand(size=(224,224,3)) #height, width, colour channels\n",
    "random_image_tensor.shape, random_image_tensor.ndim"
   ]
  },
  {
   "cell_type": "markdown",
   "metadata": {
    "id": "j9nbc0kkincq"
   },
   "source": [
    "###Zeros and Ones"
   ]
  },
  {
   "cell_type": "code",
   "execution_count": null,
   "metadata": {
    "colab": {
     "base_uri": "https://localhost:8080/"
    },
    "id": "LXmfmSWHinYK",
    "outputId": "8a7fb2c5-55c6-4350-c23c-081a8afc45e4"
   },
   "outputs": [
    {
     "data": {
      "text/plain": [
       "(tensor([[1., 1., 1., 1.],\n",
       "         [1., 1., 1., 1.],\n",
       "         [1., 1., 1., 1.]]),\n",
       " tensor([[0.1932, 0.3356, 0.6260, 0.9831],\n",
       "         [0.1118, 0.5974, 0.5733, 0.8193],\n",
       "         [0.8466, 0.0923, 0.1303, 0.0418]]))"
      ]
     },
     "execution_count": 14,
     "metadata": {},
     "output_type": "execute_result"
    }
   ],
   "source": [
    "zeros=torch.zeros(3,4)\n",
    "random_tensor=torch.rand(3,4)\n",
    "ones=torch.ones(3,4)\n",
    "#zeros, random_tensor, zeros*random_tensor\n",
    "#ones, ones*random_tensor"
   ]
  },
  {
   "cell_type": "markdown",
   "metadata": {
    "id": "PgStOMk_inVN"
   },
   "source": [
    "###Creating a Range on Tesnors"
   ]
  },
  {
   "cell_type": "code",
   "execution_count": null,
   "metadata": {
    "colab": {
     "base_uri": "https://localhost:8080/"
    },
    "id": "IFhxi2VeinQi",
    "outputId": "2211e1ba-9106-4310-cea2-e18ecf3bf837"
   },
   "outputs": [
    {
     "data": {
      "text/plain": [
       "tensor([0, 0, 0, 0, 0])"
      ]
     },
     "execution_count": 21,
     "metadata": {},
     "output_type": "execute_result"
    }
   ],
   "source": [
    "#using a torch.arange()-tensor([1, 3, 5, 7, 9])\n",
    "arange=torch.arange(start=1,end=11,step=2)\n",
    "\n",
    "#creatin tesnors like-tensor([0, 0, 0, 0, 0])\n",
    "five_zeros=torch.zeros_like(input=arange)\n",
    "five_zeros"
   ]
  },
  {
   "cell_type": "markdown",
   "metadata": {
    "id": "aPD2z-jwinNs"
   },
   "source": [
    "### Tensor Datatypes"
   ]
  },
  {
   "cell_type": "code",
   "execution_count": null,
   "metadata": {
    "colab": {
     "base_uri": "https://localhost:8080/"
    },
    "id": "RytTh7X2kwFY",
    "outputId": "7d700b81-05a2-4f7a-c765-85cd5ca9c982"
   },
   "outputs": [
    {
     "data": {
      "text/plain": [
       "(torch.float32, tensor([3., 6., 9.], dtype=torch.float16))"
      ]
     },
     "execution_count": 31,
     "metadata": {},
     "output_type": "execute_result"
    }
   ],
   "source": [
    "#Float 32 tensor\n",
    "#precision is measure of detail and quantity is expressed\n",
    "float_32_tensor=torch.tensor([3.0,6.0,9.0],dtype=torch.float32\n",
    "                             ,device=None #\"cpu\" \"gpu\" \"cuda\" tensors need to be same device\n",
    "                             , requires_grad=False) #track gradients of tensors\n",
    " #dtype none defaults to float32 dtype is datatype if tensor\n",
    " #\n",
    "float_32_tensor.dtype\n",
    "\n",
    "#or; to change type\n",
    "float_16_tensor=float_32_tensor.type(torch.float16)\n",
    "float_32_tensor.dtype, float_16_tensor"
   ]
  },
  {
   "cell_type": "code",
   "execution_count": null,
   "metadata": {
    "colab": {
     "base_uri": "https://localhost:8080/"
    },
    "id": "-0_Y7oeKkwCk",
    "outputId": "6d9be096-f5f0-4877-95e2-982b226ceb87"
   },
   "outputs": [
    {
     "name": "stdout",
     "output_type": "stream",
     "text": [
      "tensor([ 9., 36., 81.])\n",
      "Datattpe of tensor: torch.float32\n",
      "Shape of tensor: torch.Size([3])\n",
      "Device of tensor: cpu\n"
     ]
    }
   ],
   "source": [
    "randomtens=float_16_tensor*float_32_tensor\n",
    "#for details\n",
    "print(randomtens)\n",
    "print(f\"Datattpe of tensor: {randomtens.dtype}\")\n",
    "print(f\"Shape of tensor: {randomtens.shape}\")\n",
    "print(f\"Device of tensor: {randomtens.device}\")"
   ]
  },
  {
   "cell_type": "markdown",
   "metadata": {
    "id": "ZdsQKWTVkv_f"
   },
   "source": [
    "###Manipulating Tensors (tensor operations)\n",
    "\n",
    "operations include:\n",
    "* Add\n",
    "* Subtract\n",
    "* Multiplication (element wise)\n",
    "* Division\n",
    "* Matrix multiplication\n",
    "\n",
    "two rules matix multiplication need to satisfy:\n",
    "1. **inner dimensions**:\n",
    "* `(3,2) @ (3,2)` wont work\n",
    "* `(2,3) @ (3,2)` will work\n",
    "\n",
    "2. resulting matrix has shape **outer dimensions**:\n",
    "* `(2,3)@(3,2)-->(2,2)`"
   ]
  },
  {
   "cell_type": "code",
   "execution_count": null,
   "metadata": {
    "colab": {
     "base_uri": "https://localhost:8080/"
    },
    "id": "9Ql4OBKkkv6E",
    "outputId": "f7f60bc0-6883-4fdc-ebd6-8cd14fea50e0"
   },
   "outputs": [
    {
     "data": {
      "text/plain": [
       "tensor([0.5000, 1.0000, 1.5000])"
      ]
     },
     "execution_count": 40,
     "metadata": {},
     "output_type": "execute_result"
    }
   ],
   "source": [
    "tensor=torch.tensor([1,2,3])\n",
    "tensor+ 10 #add 10 torch.add(tensor,10)\n",
    "tensor*10 #mult torch.mul(tensor,10)\n",
    "tensor -10 #sub\n",
    "tensor/2 #division"
   ]
  },
  {
   "cell_type": "code",
   "execution_count": null,
   "metadata": {
    "id": "GiXDuOSh34s7"
   },
   "outputs": [],
   "source": []
  },
  {
   "cell_type": "code",
   "execution_count": null,
   "metadata": {
    "colab": {
     "base_uri": "https://localhost:8080/"
    },
    "id": "hE-2DSbI34vc",
    "outputId": "c2da0792-118d-4c5d-b912-0be052689619"
   },
   "outputs": [
    {
     "name": "stdout",
     "output_type": "stream",
     "text": [
      "tensor([1, 2, 3]) * tensor([1, 2, 3])\n",
      "Equal: tensor([1, 4, 9])\n",
      "tensor(14)\n"
     ]
    }
   ],
   "source": [
    "##Matrix multiplication\n",
    "#two main ways: element wise & Matrix multiplcation (dot product)\n",
    "print(tensor,\"*\",tensor)\n",
    "print(f\"Equal: {tensor*tensor}\")\n",
    "#matrix multiplication\n",
    "print(torch.matmul(tensor,tensor)) #1*1 + 2*2 + 3*3"
   ]
  },
  {
   "cell_type": "code",
   "execution_count": null,
   "metadata": {
    "colab": {
     "base_uri": "https://localhost:8080/"
    },
    "id": "S9aZnUgp34qd",
    "outputId": "ca401573-f314-43f1-8820-635979289b11"
   },
   "outputs": [
    {
     "name": "stdout",
     "output_type": "stream",
     "text": [
      "Original shapes: tensor_a= torch.Size([3, 2]), tensor_b=torch.Size([3, 2])\n",
      "New shapes: tensor_a=torch.Size([3, 2]) (same as above), tensor_b.T=torch.Size([2, 3])\n",
      "Multiply:torch.Size([3, 2])@torch.Size([2, 3]) matching inner dimensions\n",
      "Output:\n",
      "\n",
      "tensor([[ 27,  30,  33],\n",
      "        [ 61,  68,  75],\n",
      "        [ 95, 106, 117]])\n",
      "\n",
      "Output shape: torch.Size([3, 3])\n"
     ]
    }
   ],
   "source": [
    "# Shapes for matrix multiplication\n",
    "tensor_a=torch.tensor([[1,2]\n",
    "                       ,[3,4]\n",
    "                       ,[5,6]])\n",
    "\n",
    "tensor_b=torch.tensor([[7,10]\n",
    "                       ,[8,11]\n",
    "                       ,[9,12]])\n",
    "\n",
    "tensor_a.shape#(3,2)\n",
    "tensor_b.shape#(3,2)\n",
    "\n",
    "##can use transpose to switch shape and dimensions\n",
    "tensor_b.T, tensor_b.T.shape\n",
    "torch.mm(tensor_a,tensor_b.T)##torch.mm=torch.matmul\n",
    "print(f\"Original shapes: tensor_a= {tensor_a.shape}, tensor_b={tensor_b.shape}\")\n",
    "print(f\"New shapes: tensor_a={tensor_a.shape} (same as above), tensor_b.T={tensor_b.T.shape}\")\n",
    "print(f\"Multiply:{tensor_a.shape}@{tensor_b.T.shape} matching inner dimensions\")\n",
    "print(\"Output:\\n\")\n",
    "output=torch.mm(tensor_a,tensor_b.T)\n",
    "print(output)\n",
    "print(f\"\\nOutput shape: {output.shape}\")"
   ]
  },
  {
   "cell_type": "markdown",
   "metadata": {
    "id": "uLP-SLYG34mv"
   },
   "source": [
    "## Finding the min, max, mean sum, etc (tensor aggregation)"
   ]
  },
  {
   "cell_type": "code",
   "execution_count": null,
   "metadata": {
    "colab": {
     "base_uri": "https://localhost:8080/"
    },
    "id": "tfvM5iXP34kI",
    "outputId": "783629c0-190a-4365-f9ef-c288eae6490c"
   },
   "outputs": [
    {
     "name": "stdout",
     "output_type": "stream",
     "text": [
      "the min is 0\n",
      "the max is 90\n"
     ]
    },
    {
     "data": {
      "text/plain": [
       "(tensor(450), tensor(450))"
      ]
     },
     "execution_count": 8,
     "metadata": {},
     "output_type": "execute_result"
    }
   ],
   "source": [
    "x=torch.arange(0,100,10)\n",
    "print(f\"the min is {torch.min(x)}\") #x.min.()\n",
    "print(f\"the max is {torch.max(x)}\") #x.max()\n",
    "#torch.mean requires data type float 32\n",
    "torch.mean(x.type(torch.float32)), x.type(torch.float32).mean()\n",
    "torch.sum(x), x.sum()"
   ]
  },
  {
   "cell_type": "code",
   "execution_count": null,
   "metadata": {
    "colab": {
     "base_uri": "https://localhost:8080/"
    },
    "id": "8p1Xl7nmkv3V",
    "outputId": "9ba00b27-2edb-4a90-ba36-bdbfe9483d25"
   },
   "outputs": [
    {
     "name": "stdout",
     "output_type": "stream",
     "text": [
      "tensor([ 0, 10, 20, 30, 40, 50, 60, 70, 80, 90])\n"
     ]
    },
    {
     "data": {
      "text/plain": [
       "(tensor(0), tensor(9))"
      ]
     },
     "execution_count": 11,
     "metadata": {},
     "output_type": "execute_result"
    }
   ],
   "source": [
    "##finding position min and max\n",
    "print(x)\n",
    "#returns index/position in tensor where min/max value occurs\n",
    "x.argmin(), x.argmax()\n"
   ]
  },
  {
   "cell_type": "markdown",
   "metadata": {
    "id": "hHy4bCHkilMq"
   },
   "source": [
    "## Rehaping, stacking, squeezing and unsqueezing tensors\n",
    "\n",
    "* Reshaping-reshapes an input tensor to defined shape\n",
    "* View- Return a view of an input tensor of certain shape to keep same memory\n",
    "* Stacking- combine multpile tensors on top of each other (vstack) or side by side(hstack)\n",
    "* Squeeze - Removes all `1` dimensions from tensor\n",
    "* Unsqueeze - add `1` dimnesion to a target tensor\n",
    "* Permute - Return a view of the input with dimensions permuted/swapped in a certain way\n"
   ]
  },
  {
   "cell_type": "code",
   "execution_count": null,
   "metadata": {
    "colab": {
     "base_uri": "https://localhost:8080/"
    },
    "id": "5-7Y6_6_Qyip",
    "outputId": "a806d158-ddf2-43e9-c30c-d3124731bd01"
   },
   "outputs": [
    {
     "data": {
      "text/plain": [
       "(tensor([[ 1,  2,  3,  4,  5],\n",
       "         [ 6,  7,  8,  9, 10]]),\n",
       " tensor([[ 1,  2],\n",
       "         [ 3,  4],\n",
       "         [ 5,  6],\n",
       "         [ 7,  8],\n",
       "         [ 9, 10]]))"
      ]
     },
     "execution_count": 15,
     "metadata": {},
     "output_type": "execute_result"
    }
   ],
   "source": [
    "#\n",
    "import torch\n",
    "x=torch.arange(1,10,1)\n",
    "x, x.shape\n",
    "##add extra dimension\n",
    "x_reshape=x.reshape(1,9)\n",
    "x_reshape2=x.reshape(9,1)\n",
    "#x_reshape, x_reshape.shape\n",
    "#x_reshape2 #reshape parameters must be multiples of tensor\n",
    "y=torch.arange(1,11,1)\n",
    "y_reshape=y.reshape(2,5)\n",
    "y_reshape2=y.reshape(5,2)\n",
    "y_reshape, y_reshape2"
   ]
  },
  {
   "cell_type": "code",
   "execution_count": null,
   "metadata": {
    "colab": {
     "base_uri": "https://localhost:8080/"
    },
    "id": "J4rsRAxGQyaB",
    "outputId": "7e5411d8-5448-4c80-f105-4133fd7b0b9d"
   },
   "outputs": [
    {
     "data": {
      "text/plain": [
       "(tensor([[5, 2, 3, 4, 5, 6, 7, 8, 9]]), tensor([5, 2, 3, 4, 5, 6, 7, 8, 9]))"
      ]
     },
     "execution_count": 17,
     "metadata": {},
     "output_type": "execute_result"
    }
   ],
   "source": [
    "#change the view\n",
    "z=x.view(1,9)\n",
    "z, z.shape\n",
    "#changing z changes x as a view of tensor shares memory of original input\n",
    "z[:,0]=5\n",
    "z,x"
   ]
  },
  {
   "cell_type": "code",
   "execution_count": null,
   "metadata": {
    "colab": {
     "base_uri": "https://localhost:8080/"
    },
    "id": "PKFoSUHYQyWz",
    "outputId": "4052f97c-bf5e-41de-e666-94f94a64a7e4"
   },
   "outputs": [
    {
     "data": {
      "text/plain": [
       "tensor([[ 1,  2,  3,  4,  5,  6,  7,  8,  9, 10],\n",
       "        [ 1,  2,  3,  4,  5,  6,  7,  8,  9, 10]])"
      ]
     },
     "execution_count": 27,
     "metadata": {},
     "output_type": "execute_result"
    }
   ],
   "source": [
    "#Stack tensors\n",
    "x_stacked=torch.stack([x,x,x,x],dim=0)\n",
    "y_stack=torch.stack([y,y],dim=1)\n",
    "#can also use vstack and h stack\n",
    "y_stack"
   ]
  },
  {
   "cell_type": "code",
   "execution_count": null,
   "metadata": {
    "colab": {
     "base_uri": "https://localhost:8080/"
    },
    "id": "d4bTC5rPQyI_",
    "outputId": "9fe1c93a-6a4c-4747-ee54-41772c01d3ff"
   },
   "outputs": [
    {
     "name": "stdout",
     "output_type": "stream",
     "text": [
      "Previous Tensor: tensor([[5, 2, 3, 4, 5, 6, 7, 8, 9]]) with size torch.Size([1, 9])\n",
      "With squeeze tensor([5, 2, 3, 4, 5, 6, 7, 8, 9]) with size torch.Size([9])\n"
     ]
    }
   ],
   "source": [
    "x_reshape.shape #--torch.Size([1, 9])\n",
    "x_reshape.squeeze() #--tensor([5, 2, 3, 4, 5, 6, 7, 8, 9]) as oppose to tensor([[5, 2, 3, 4, 5, 6, 7, 8, 9]]\n",
    "print(f\"Previous Tensor: {x_reshape} with size {x_reshape.shape}\")\n",
    "print(f\"With squeeze {x_reshape.squeeze()} with size {x_reshape.squeeze().shape}\")"
   ]
  },
  {
   "cell_type": "code",
   "execution_count": null,
   "metadata": {
    "colab": {
     "base_uri": "https://localhost:8080/"
    },
    "id": "79gLjv92CUPL",
    "outputId": "dfcf513c-52f9-4db7-bb46-e7e9687a939b"
   },
   "outputs": [
    {
     "name": "stdout",
     "output_type": "stream",
     "text": [
      "Previous target: tensor([5, 2, 3, 4, 5, 6, 7, 8, 9])\n",
      "Previous shapoe: torch.Size([9])\n",
      "\n",
      "New target: tensor([[5, 2, 3, 4, 5, 6, 7, 8, 9]])\n",
      "New shapoe: torch.Size([1, 9])\n",
      "\n",
      " Dim 1 target: tensor([[5],\n",
      "        [2],\n",
      "        [3],\n",
      "        [4],\n",
      "        [5],\n",
      "        [6],\n",
      "        [7],\n",
      "        [8],\n",
      "        [9]])\n",
      "Dim 1 shapoe: torch.Size([9, 1])\n"
     ]
    }
   ],
   "source": [
    "#toch.unaqueeze-adds a single dimension to a target tesnor at a specified dim\n",
    "print(f\"Previous target: {x_reshape.squeeze()}\")\n",
    "print(f\"Previous shapoe: {x_reshape.squeeze().shape}\")\n",
    "#add a dim\n",
    "x_unsqueeze=x_reshape.squeeze().unsqueeze(dim=0)\n",
    "print(f\"\\nNew target: {x_unsqueeze}\")\n",
    "print(f\"New shapoe: {x_unsqueeze.shape}\")\n",
    "#on dimension 1 adds to 2nd or index 1 dim\n",
    "x_unsqueeze2=x_reshape.squeeze().unsqueeze(dim=1)\n",
    "print(f\"\\n Dim 1 target: {x_unsqueeze2}\")\n",
    "print(f\"Dim 1 shapoe: {x_unsqueeze2.shape}\")\n"
   ]
  },
  {
   "cell_type": "code",
   "execution_count": null,
   "metadata": {
    "colab": {
     "base_uri": "https://localhost:8080/"
    },
    "id": "X2lAWGAYCUMa",
    "outputId": "ae5702dd-32a8-46fa-9a93-dd020bcca699"
   },
   "outputs": [
    {
     "name": "stdout",
     "output_type": "stream",
     "text": [
      " Previos shape torch.Size([224, 224, 3])\n",
      " New shape torch.Size([3, 224, 224])\n"
     ]
    },
    {
     "data": {
      "text/plain": [
       "(tensor(7.), tensor(7.))"
      ]
     },
     "execution_count": 45,
     "metadata": {},
     "output_type": "execute_result"
    }
   ],
   "source": [
    "#torch.permute rearranges dimensions of a target tensor in specified order\n",
    "x_org=torch.rand(224,224,3) #[hieght , widhth, colour_channels]\n",
    "#Permute org tensor to rearrange axis (or dim)\n",
    "x_permuted=x_org.permute(2,0,1) #shifts axis 0->1, 1->2, 2->0\n",
    "\n",
    "print(f\" Previos shape {x_org.shape}\")\n",
    "print(f\" New shape {x_permuted.shape}\")\n",
    "x_org[0,0,0]=7\n",
    "x_org[0,0,0],x_permuted[0,0,0]"
   ]
  },
  {
   "cell_type": "markdown",
   "metadata": {
    "id": "axKnzvjeCUJi"
   },
   "source": [
    "## Indexing (selecting data from tensors)\n",
    "\n",
    "Indexing with PyTorch is similar to indexing with Numpy"
   ]
  },
  {
   "cell_type": "code",
   "execution_count": null,
   "metadata": {
    "colab": {
     "base_uri": "https://localhost:8080/"
    },
    "id": "v441QHKiCUGh",
    "outputId": "d05ba8af-30ba-45c0-9a6b-d1e6583d17ef"
   },
   "outputs": [
    {
     "name": "stdout",
     "output_type": "stream",
     "text": [
      "x[0]=tensor([[1, 2, 3],\n",
      "        [4, 5, 6],\n",
      "        [7, 8, 9]])\n",
      "\n",
      "x[0,0]=tensor([1, 2, 3])\n",
      "\n",
      "x[0,0,0]=1\n"
     ]
    },
    {
     "data": {
      "text/plain": [
       "tensor([[3, 6, 9]])"
      ]
     },
     "execution_count": 53,
     "metadata": {},
     "output_type": "execute_result"
    }
   ],
   "source": [
    "x=torch.arange(1,10,1).reshape(1,3,3)\n",
    "x, x.shape\n",
    "#index on new tensor\n",
    "print(f\"x[0]={x[0]}\")\n",
    "print(f\"\\nx[0,0]={x[0,0]}\")\n",
    "print(f\"\\nx[0,0,0]={x[0,0,0]}\")\n",
    "#: can be used to all\n",
    "x[:,:,2]"
   ]
  },
  {
   "cell_type": "markdown",
   "metadata": {
    "id": "BnaRZEaxCUDl"
   },
   "source": [
    "##Pytorch tensors & NumPy\n",
    "\n",
    "Numpy is a popular scientific python numerical computing torch.library\n",
    "\n",
    "Pytorch has to interact with it\n",
    "\n",
    "* Data in Numpy what in Pytorch tensor -> `torch.from_numpy(ndarray)`\n",
    "* Pytorch tesnro->Numpy->torch.Tensor.numpy()"
   ]
  },
  {
   "cell_type": "code",
   "execution_count": null,
   "metadata": {
    "colab": {
     "base_uri": "https://localhost:8080/"
    },
    "id": "DG5O99kgCUAB",
    "outputId": "5a17834d-4bf4-4557-e014-03638e81596c"
   },
   "outputs": [
    {
     "data": {
      "text/plain": [
       "(array([1, 2, 3, 4, 5, 6, 7]), tensor([1., 2., 3., 4., 5., 6., 7.]))"
      ]
     },
     "execution_count": 55,
     "metadata": {},
     "output_type": "execute_result"
    }
   ],
   "source": [
    "import numpy as np\n",
    "import torch\n",
    "#default num,py datatype is float 64\n",
    "array=np.arange(1,8)\n",
    "tensor=torch.from_numpy(array).type(torch.float32)\n",
    "array, tensor"
   ]
  },
  {
   "cell_type": "code",
   "execution_count": null,
   "metadata": {
    "colab": {
     "base_uri": "https://localhost:8080/"
    },
    "id": "bCLgHdUoCT8L",
    "outputId": "3db0bd85-322b-40d4-9742-dfc867dc7a03"
   },
   "outputs": [
    {
     "data": {
      "text/plain": [
       "(array([3, 4, 5, 6, 7, 8, 9]), tensor([1., 2., 3., 4., 5., 6., 7.]))"
      ]
     },
     "execution_count": 57,
     "metadata": {},
     "output_type": "execute_result"
    }
   ],
   "source": [
    "#change value in array; doesn't affect tensor/don't share memory\n",
    "array=array+1\n",
    "array, tensor"
   ]
  },
  {
   "cell_type": "code",
   "execution_count": null,
   "metadata": {
    "colab": {
     "base_uri": "https://localhost:8080/"
    },
    "id": "1VvlP524JeS5",
    "outputId": "86279d33-7661-4722-84ca-e53cbd3cf604"
   },
   "outputs": [
    {
     "data": {
      "text/plain": [
       "(tensor([1., 1., 1., 1., 1., 1., 1.]),\n",
       " array([1., 1., 1., 1., 1., 1., 1.], dtype=float32))"
      ]
     },
     "execution_count": 58,
     "metadata": {},
     "output_type": "execute_result"
    }
   ],
   "source": [
    "#tensor to numpy array\n",
    "tensor=torch.ones(7)\n",
    "numpy_tens=tensor.numpy()\n",
    "#default datatype of tensor is float 32\n",
    "tensor, numpy_tens"
   ]
  },
  {
   "cell_type": "markdown",
   "metadata": {
    "id": "nMqCCq7pJeQT"
   },
   "source": [
    "## Reproducibility (trying to take random from random)\n",
    "\n",
    "In short how a neural network learns:\n",
    "\n",
    "`start with random numbers->tensor operations->update random numbers to try and make them better representations of the data->again->again...`\n",
    "\n",
    "To reduce randomness in neural networks and PyTorch comes **random seed**\n",
    "\n",
    "Random seed flavours the randomness"
   ]
  },
  {
   "cell_type": "code",
   "execution_count": null,
   "metadata": {
    "colab": {
     "base_uri": "https://localhost:8080/"
    },
    "id": "2FcfbAVXJeNb",
    "outputId": "68f56c6f-9ecd-4296-a35e-d1ad386e6f08"
   },
   "outputs": [
    {
     "name": "stdout",
     "output_type": "stream",
     "text": [
      "tensor([[False, False, False, False],\n",
      "        [False, False, False, False],\n",
      "        [False, False, False, False]])\n"
     ]
    }
   ],
   "source": [
    "import torch\n",
    "\n",
    "#Create two random tensors\n",
    "random_tensor_A=torch.rand(3,4)\n",
    "random_tensor_B=torch.rand(3,4)\n",
    "print(random_tensor_A==random_tensor_B)"
   ]
  },
  {
   "cell_type": "code",
   "execution_count": null,
   "metadata": {
    "colab": {
     "base_uri": "https://localhost:8080/"
    },
    "id": "n0P1dqDNJeKY",
    "outputId": "9d9ce588-9413-46a2-abb0-b7f359046e7e"
   },
   "outputs": [
    {
     "name": "stdout",
     "output_type": "stream",
     "text": [
      "tensor([[0.2919, 0.2857, 0.4021, 0.4645],\n",
      "        [0.9503, 0.2564, 0.6645, 0.8609],\n",
      "        [0.3538, 0.3347, 0.7285, 0.5794]])\n",
      "tensor([[0.2919, 0.2857, 0.4021, 0.4645],\n",
      "        [0.9503, 0.2564, 0.6645, 0.8609],\n",
      "        [0.3538, 0.3347, 0.7285, 0.5794]])\n",
      "tensor([[True, True, True, True],\n",
      "        [True, True, True, True],\n",
      "        [True, True, True, True]])\n"
     ]
    }
   ],
   "source": [
    "##make random but reproducible-set random seed\n",
    "RANDOM_SEED=77\n",
    "\n",
    "torch.manual_seed(RANDOM_SEED)\n",
    "random_tensor_C=torch.rand(3,4)\n",
    "#must set random seed everytime if using manual seed\n",
    "torch.manual_seed(RANDOM_SEED)\n",
    "random_tensor_D=torch.rand(3,4)\n",
    "\n",
    "print(random_tensor_C)\n",
    "print(random_tensor_D)\n",
    "print(random_tensor_C==random_tensor_D)"
   ]
  },
  {
   "cell_type": "markdown",
   "metadata": {
    "id": "QZlCxt6tJeHS"
   },
   "source": [
    "## Running tensors and PyTorch objects on the GPUs (faster computations)\n",
    "\n",
    "GPUs = faster computations on numbers, CUDA +NVDIA hardware and PYTOrch"
   ]
  },
  {
   "cell_type": "markdown",
   "metadata": {
    "id": "82sL6QLaJeER"
   },
   "source": [
    "### 1. Getting a GPU\n",
    "\n",
    "1. Easiest - use google Colab for free GPU (upgrade uptions)\n",
    "2. Use your own GPU - takes a little but of setup and requires purchasing a GPU\n",
    "3. Use cloud computing - GCP, AWS, Azure, these services alllow renting computers on the cloud and accesss them\n",
    "\n",
    "\n",
    "https://pytorch.org/get-started/locally/"
   ]
  },
  {
   "cell_type": "code",
   "execution_count": 4,
   "metadata": {
    "id": "ePL6V5grJeBC"
   },
   "outputs": [],
   "source": [
    "#!nvidia-smi"
   ]
  },
  {
   "cell_type": "markdown",
   "metadata": {
    "id": "rMqcStZOJd9h"
   },
   "source": [
    "### 2. Check for GPU access for PyTorch"
   ]
  },
  {
   "cell_type": "code",
   "execution_count": 7,
   "metadata": {
    "colab": {
     "base_uri": "https://localhost:8080/"
    },
    "id": "DK3KsqvDm3Gj",
    "outputId": "e65c28f9-c670-4e4f-a5a5-f560ac47956f"
   },
   "outputs": [
    {
     "data": {
      "text/plain": [
       "False"
      ]
     },
     "execution_count": 7,
     "metadata": {},
     "output_type": "execute_result"
    }
   ],
   "source": [
    "#check for GPU access w/ PyTorch\n",
    "import torch\n",
    "torch.cuda.is_available()"
   ]
  },
  {
   "cell_type": "code",
   "execution_count": 9,
   "metadata": {
    "colab": {
     "base_uri": "https://localhost:8080/"
    },
    "id": "55Hsn5Cqm27E",
    "outputId": "c232a2b3-c180-486c-b4ec-db6e8c625de9"
   },
   "outputs": [
    {
     "data": {
      "text/plain": [
       "0"
      ]
     },
     "execution_count": 9,
     "metadata": {},
     "output_type": "execute_result"
    }
   ],
   "source": [
    "# Setup device agnostic code\n",
    "device=\"cuda\" if torch.cuda.is_available() else \"cpu\"\n",
    "device\n",
    "#count number of devices\n",
    "torch.cuda.device_count()"
   ]
  },
  {
   "cell_type": "markdown",
   "metadata": {
    "id": "bVGwjNOrm24L"
   },
   "source": [
    "## 3. Putting tensors (and models) on the GPU\n",
    "\n",
    "The reason we want tensors/models on the GPU is for speed computations"
   ]
  },
  {
   "cell_type": "code",
   "execution_count": 11,
   "metadata": {
    "colab": {
     "base_uri": "https://localhost:8080/"
    },
    "id": "3BOH14Wom2wP",
    "outputId": "c674e31a-741f-451a-ccc7-7d389e1bcd31"
   },
   "outputs": [
    {
     "name": "stdout",
     "output_type": "stream",
     "text": [
      "tensor([1, 2, 3]) cpu\n"
     ]
    },
    {
     "data": {
      "text/plain": [
       "tensor([1, 2, 3])"
      ]
     },
     "execution_count": 11,
     "metadata": {},
     "output_type": "execute_result"
    }
   ],
   "source": [
    "# create tensor on CPU\n",
    "tensor=torch.tensor([1,2,3])\n",
    "#tensor not on GPU\n",
    "print(tensor, tensor.device)\n",
    "#move tensor to GPU (if available)\n",
    "tensor_on_gpu=tensor.to(device)\n",
    "tensor_on_gpu"
   ]
  },
  {
   "cell_type": "markdown",
   "metadata": {
    "id": "XtH-kYT7m2tk"
   },
   "source": [
    "### 4. Moving tensors back to the CPU"
   ]
  },
  {
   "cell_type": "code",
   "execution_count": 13,
   "metadata": {
    "colab": {
     "base_uri": "https://localhost:8080/"
    },
    "id": "GgYENQWlm2qr",
    "outputId": "28c82ebe-f5df-476f-c830-5accaa0930d4"
   },
   "outputs": [
    {
     "data": {
      "text/plain": [
       "array([1, 2, 3])"
      ]
     },
     "execution_count": 13,
     "metadata": {},
     "output_type": "execute_result"
    }
   ],
   "source": [
    "#if tensor on GPU, can't transform to Numpy\n",
    "tensor_on_gpu.numpy()\n",
    "#to fix GPU tensor with NumPy issue, can set it to GPU\n",
    "tensor_back_on_cpu=tensor_on_gpu.cpu().numpy()\n",
    "tensor_back_on_cpu"
   ]
  },
  {
   "cell_type": "code",
   "execution_count": null,
   "metadata": {
    "id": "1uviBYRjm2lw"
   },
   "outputs": [],
   "source": []
  },
  {
   "cell_type": "code",
   "execution_count": null,
   "metadata": {
    "id": "De1R-Pism2iy"
   },
   "outputs": [],
   "source": []
  },
  {
   "cell_type": "code",
   "execution_count": null,
   "metadata": {
    "id": "PUpwB0UHm2W-"
   },
   "outputs": [],
   "source": []
  }
 ],
 "metadata": {
  "colab": {
   "gpuType": "T4",
   "provenance": []
  },
  "kernelspec": {
   "display_name": "Python 3 (ipykernel)",
   "language": "python",
   "name": "python3"
  },
  "language_info": {
   "codemirror_mode": {
    "name": "ipython",
    "version": 3
   },
   "file_extension": ".py",
   "mimetype": "text/x-python",
   "name": "python",
   "nbconvert_exporter": "python",
   "pygments_lexer": "ipython3",
   "version": "3.9.7"
  }
 },
 "nbformat": 4,
 "nbformat_minor": 1
}

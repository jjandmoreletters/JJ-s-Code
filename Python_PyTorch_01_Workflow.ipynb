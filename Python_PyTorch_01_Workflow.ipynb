{
 "cells": [
  {
   "cell_type": "markdown",
   "metadata": {
    "id": "ru2KMuPqrcjJ"
   },
   "source": [
    "## PyTorch Workflow\n",
    "\n",
    "Let's explore an example of a PyTorch end-to-end workflow.\n",
    "\n",
    "Resources:\n",
    "* Ground truth notebook - https://github.com/mrdbourke/pytorch-deep-learning/blob/main/01_pytorch_workflow.ipynb\n",
    "* Book version of notebook - https://www.learnpytorch.io/01_pytorch_workflow/"
   ]
  },
  {
   "cell_type": "code",
   "execution_count": 1,
   "metadata": {
    "colab": {
     "base_uri": "https://localhost:8080/"
    },
    "id": "TTQwDGBMsoYu",
    "outputId": "643d8393-e1db-4770-c953-686528830e81"
   },
   "outputs": [
    {
     "data": {
      "text/plain": [
       "{1: 'data(prepare and load)',\n",
       " 2: 'build model',\n",
       " 3: 'fitting the model to the data (training)',\n",
       " 4: 'making predictions and evaluating a model (inference))',\n",
       " 5: 'saving and loading the model',\n",
       " 6: 'putting it all together'}"
      ]
     },
     "execution_count": 1,
     "metadata": {},
     "output_type": "execute_result"
    }
   ],
   "source": [
    "what_were_covering={1: \"data(prepare and load)\",\n",
    "                    2: \"build model\",\n",
    "                    3: \"fitting the model to the data (training)\",\n",
    "                    4: \"making predictions and evaluating a model (inference))\",\n",
    "                    5: \"saving and loading the model\",\n",
    "                    6: \"putting it all together\"}\n",
    "what_were_covering"
   ]
  },
  {
   "cell_type": "code",
   "execution_count": 2,
   "metadata": {
    "colab": {
     "base_uri": "https://localhost:8080/",
     "height": 35
    },
    "id": "e3L8FdJis9UT",
    "outputId": "dcdd2747-a5a3-4567-fdc2-73f6fe522107"
   },
   "outputs": [
    {
     "data": {
      "application/vnd.google.colaboratory.intrinsic+json": {
       "type": "string"
      },
      "text/plain": [
       "'2.3.0+cu121'"
      ]
     },
     "execution_count": 2,
     "metadata": {},
     "output_type": "execute_result"
    }
   ],
   "source": [
    "import torch\n",
    "from torch import nn #nn contains all of pytorch's building block for neural networks\n",
    "import matplotlib.pyplot as plt\n",
    "\n",
    "torch.__version__"
   ]
  },
  {
   "cell_type": "markdown",
   "metadata": {
    "id": "qcGyfAvRs9R9"
   },
   "source": [
    "## 1. Data Preparing and loading\n",
    "\n",
    "Data can be almost anything in ML:\n",
    "* Excels preadsheets\n",
    "* Images of any kind\n",
    "* Videos\n",
    "* Audio like songs\n",
    "* Text\n",
    "\n",
    "ML is two parts:\n",
    "1. Get data into numerical representation\n",
    "2. Build Model to learn patterns in numerical representation.\n",
    "\n",
    "Let's create some known data using the linear regression formula.\n",
    "\n",
    "We'll use the linear reg formula to make a straight line with known **parameters**."
   ]
  },
  {
   "cell_type": "code",
   "execution_count": 64,
   "metadata": {
    "colab": {
     "base_uri": "https://localhost:8080/"
    },
    "id": "PuinbRzUs9Pg",
    "outputId": "21f2ddb7-9d69-425a-82e3-bc877c545ec4"
   },
   "outputs": [
    {
     "data": {
      "text/plain": [
       "(50, 50)"
      ]
     },
     "execution_count": 64,
     "metadata": {},
     "output_type": "execute_result"
    }
   ],
   "source": [
    "#Create known parameters\n",
    "weight=0.7\n",
    "bias=0.3\n",
    "# create\n",
    "start=0\n",
    "end=1\n",
    "step=0.02\n",
    "X=torch.arange(start,end,step).unsqueeze(dim=1)\n",
    "y=weight*X+bias\n",
    "\n",
    "X[:10], y[:10]\n",
    "len(X), len(y)"
   ]
  },
  {
   "cell_type": "markdown",
   "metadata": {
    "id": "2gtR3OuSs9Mn"
   },
   "source": [
    "### Splitting data into training and test datasets (important)\n",
    "\n",
    "create training and test set"
   ]
  },
  {
   "cell_type": "code",
   "execution_count": 65,
   "metadata": {
    "colab": {
     "base_uri": "https://localhost:8080/"
    },
    "id": "hYG5J-EDs9Ju",
    "outputId": "90c3f745-e0ff-4f8c-a6f8-516098ab68fc"
   },
   "outputs": [
    {
     "data": {
      "text/plain": [
       "(40, 40, 10, 10)"
      ]
     },
     "execution_count": 65,
     "metadata": {},
     "output_type": "execute_result"
    }
   ],
   "source": [
    "#Create train/tst split\n",
    "train_split=int(0.8*len(X))\n",
    "#test_split=int(0.2*len(X))\n",
    "\n",
    "X_train, y_train=X[:train_split], y[:train_split]\n",
    "X_test, y_test=X[train_split:], y[train_split:]\n",
    "\n",
    "len(X_train), len(y_train), len(X_test), len(y_test)"
   ]
  },
  {
   "cell_type": "markdown",
   "metadata": {
    "id": "483LqaSIs9Ft"
   },
   "source": [
    "How might be better visualize our data? - Always visualize the data"
   ]
  },
  {
   "cell_type": "code",
   "execution_count": 66,
   "metadata": {
    "id": "FjciQBrNs9Cz"
   },
   "outputs": [],
   "source": [
    "def plot_predictions(train_data=X_train,\n",
    "                     train_labels=y_train,\n",
    "                     test_data=X_test,\n",
    "                     test_labels=y_test,\n",
    "                     predictions=None):\n",
    "  plt.figure(figsize=(10,7))\n",
    "#plot training data in red\n",
    "  plt.scatter(train_data,train_labels,c='r',s=4,label=\"Training dataset\")\n",
    "  #Plot testing data in green\n",
    "  plt.scatter(test_data, test_labels,c=\"#182D09\",s=4,label=\"Testing data\")\n",
    "\n",
    "  #Are there predicitions?\n",
    "  if predictions is not None:\n",
    "    plt.scatter(test_data, predictions,c=\"purple\",s=4,label=\"prediction\")\n",
    "\n",
    "  #show legend\n",
    "\n",
    "  plt.legend();"
   ]
  },
  {
   "cell_type": "code",
   "execution_count": 67,
   "metadata": {
    "colab": {
     "base_uri": "https://localhost:8080/",
     "height": 460
    },
    "id": "6k_c74CzE9C8",
    "outputId": "01d2f04e-fe63-4ac9-bb86-008609793019"
   },
   "outputs": [
    {
     "data": {
      "image/png": "[encoded data removed]",
      "text/plain": [
       "<Figure size 1000x700 with 1 Axes>"
      ]
     },
     "metadata": {},
     "output_type": "display_data"
    }
   ],
   "source": [
    "plot_predictions();"
   ]
  },
  {
   "cell_type": "markdown",
   "metadata": {
    "id": "7givXCpME8_M"
   },
   "source": [
    "## 2. Build model\n",
    "\n",
    "1st PyTorch model\n",
    "\n",
    "Classes documentation: https://realpython.com/python3-object-oriented-programming/\n",
    "\n",
    "what our mode does:\n",
    "* Start with random values (weights and bias)\n",
    "* Lok at training data and adjust random values to better represent ideal values (weights and bias used to create the data)\n",
    "\n",
    "How does it do this?\n",
    "\n",
    "Through 2 algorithms:\n",
    "1. Gradient descent\n",
    "2. Backpropagation"
   ]
  },
  {
   "cell_type": "code",
   "execution_count": 79,
   "metadata": {
    "id": "szCWCoDcE849"
   },
   "outputs": [],
   "source": [
    "from torch import nn\n",
    "#Create Linear regression model class\n",
    "class LinearRegressionModel(nn.Module): #<- almost everything in PyTorch inherits from nn.Module\n",
    "  def __init__(self):\n",
    "    super().__init__()\n",
    "    self.weights=nn.Parameter(torch.randn(1, # <-start with a random weight and try to adjust to ideal weight\n",
    "                                          requires_grad=True, #<-be upgraded via gradient descent\n",
    "                                           dtype=torch.float)) #<-PyTorch loves torch.float32\n",
    "\n",
    "    self.bias=nn.Parameter(torch.randn(1,\n",
    "                                       requires_grad=True,\n",
    "                                       dtype=torch.float))\n",
    "\n",
    "    #forward method to define the computation in the model\n",
    "  def forward(self, x: torch.Tensor)-> torch.Tensor: #\"x\" is the input data\n",
    "    return self.weights*x+self.bias #linear regression formula\n"
   ]
  },
  {
   "cell_type": "markdown",
   "metadata": {
    "id": "CaPoGgWiE82C"
   },
   "source": [
    "### PyTorch model building essentials\n",
    "\n",
    "* torch.nn - contains all building blocks for computational graphs (a nueral ntwrok can be considered a computation graph)\n",
    "* torch.nn.Parameter - what parameters should our model try and learn, often a PyTorch layer from torch.nn with set these for us\n",
    "*torch.nn.Module-The base class for all nueral network modules, if you subclass, you should overwrite forward()\n",
    "*torch.optim- this is where the optimizers in PyTorch Live, help with gradient descent\n",
    "*def forward()-All nn.Module sublasses require you to overwrite forward(), this method defines what happens in the forward computation\n",
    "\n",
    "see more of these essentials- https://pytorch.org/tutorials/beginner/ptcheat.html"
   ]
  },
  {
   "cell_type": "markdown",
   "metadata": {
    "id": "azrCWoLiO9E-"
   },
   "source": [
    "### Checking the contents of PyTorch model\n",
    "\n",
    "Lets see what's inside\n",
    "\n",
    "check out model parameters using `.parameters`"
   ]
  },
  {
   "cell_type": "code",
   "execution_count": 80,
   "metadata": {
    "colab": {
     "base_uri": "https://localhost:8080/"
    },
    "id": "mP39WJmTO9B3",
    "outputId": "ce5c2a1d-5d48-47f3-b605-0735638dce13"
   },
   "outputs": [
    {
     "name": "stdout",
     "output_type": "stream",
     "text": [
      "parameters: \n",
      "[Parameter containing:\n",
      "tensor([-0.3568], requires_grad=True), Parameter containing:\n",
      "tensor([0.6007], requires_grad=True)]\n",
      "\n",
      "dictionary of parameters: \n",
      "OrderedDict([('weights', tensor([-0.3568])), ('bias', tensor([0.6007]))])\n"
     ]
    }
   ],
   "source": [
    "#create random seed\n",
    "torch.manual_seed(77)\n",
    "\n",
    "#create instance of the model (this is a sublass of nn.Module)\n",
    "\n",
    "model_0=LinearRegressionModel()\n",
    "#check out parameters (parameter is a value model sets itelf)\n",
    "list(model_0.parameters())\n",
    "\n",
    "#List named parameters\n",
    "model_0.state_dict()\n",
    "\n",
    "print(f\"parameters: \\n{list(model_0.parameters())}\")\n",
    "print(f\"\\ndictionary of parameters: \\n{model_0.state_dict()}\")"
   ]
  },
  {
   "cell_type": "markdown",
   "metadata": {
    "id": "SfxgEo39O8-4"
   },
   "source": [
    "### Making predictions using `torch.inference_mode()`\n",
    "\n",
    "to check model predictive power, let's see how well it predicts `y_test` based on `x_test`\n",
    "\n",
    "When we pass data through the model, run through the forward() method"
   ]
  },
  {
   "cell_type": "code",
   "execution_count": 81,
   "metadata": {
    "colab": {
     "base_uri": "https://localhost:8080/"
    },
    "id": "XcQm121dO87J",
    "outputId": "a6a7ba89-a396-49a3-de12-903dc4d271d6"
   },
   "outputs": [
    {
     "data": {
      "text/plain": [
       "(tensor([[0.3153],\n",
       "         [0.3081],\n",
       "         [0.3010],\n",
       "         [0.2938],\n",
       "         [0.2867],\n",
       "         [0.2796],\n",
       "         [0.2724],\n",
       "         [0.2653],\n",
       "         [0.2582],\n",
       "         [0.2510]]),\n",
       " tensor([[0.8600],\n",
       "         [0.8740],\n",
       "         [0.8880],\n",
       "         [0.9020],\n",
       "         [0.9160],\n",
       "         [0.9300],\n",
       "         [0.9440],\n",
       "         [0.9580],\n",
       "         [0.9720],\n",
       "         [0.9860]]))"
      ]
     },
     "execution_count": 81,
     "metadata": {},
     "output_type": "execute_result"
    }
   ],
   "source": [
    "#'Make predictions with model'\n",
    "with torch.inference_mode():\n",
    "  y_preds=model_0(X_test)\n",
    "\n",
    "y_preds, y_test"
   ]
  },
  {
   "cell_type": "code",
   "execution_count": 82,
   "metadata": {
    "colab": {
     "base_uri": "https://localhost:8080/",
     "height": 460
    },
    "id": "gs53vtBsUS_Q",
    "outputId": "3eb9dc37-9fc3-4ee4-dce4-dd8a943e7177"
   },
   "outputs": [
    {
     "data": {
      "image/png": "[encoded data removed]",
      "text/plain": [
       "<Figure size 1000x700 with 1 Axes>"
      ]
     },
     "metadata": {},
     "output_type": "display_data"
    }
   ],
   "source": [
    "plot_predictions(predictions=y_preds)"
   ]
  },
  {
   "cell_type": "markdown",
   "metadata": {
    "id": "f9eqZq98O84I"
   },
   "source": [
    "## 3. Train Model\n",
    "\n",
    "The whole idea of training is moving a model from *unknown* parameters to *known* parameters\n",
    "\n",
    "Or go from a poor representation to a better representation of the data\n",
    "\n",
    "One way to measure how poor/wrong a model is to use a loss function\n",
    "\n",
    "* Note: Loss function may also be called cost function or criterion in different areas.\n",
    "\n",
    "Things we need to change\n",
    "\n",
    "* **Loss Function:** A function to measure how wrong your model's predictions are to the ideal outputs, lower=better\n",
    "\n",
    "* **Optimizer:** Takes into account loss of a model and adjusts the model's parameters (e.g weights,bias) to improve the loss function\n",
    "\n",
    " * Inisde the optimizer two parameters are often set:\n",
    "  * `params` - model parameters you'd like to optimize, e.g `params=model_0.parameters`\n",
    "  * `lr`(learning rate-a small `lr` results in small change and a large in large changes)\n",
    "\n",
    "And specifically for PyTorch we need:\n",
    "* Training loop\n",
    "* Testing loop\n",
    "\n"
   ]
  },
  {
   "cell_type": "code",
   "execution_count": 83,
   "metadata": {
    "colab": {
     "base_uri": "https://localhost:8080/"
    },
    "id": "JkS2UOOOUTka",
    "outputId": "91081ca9-ba90-479c-e948-6c236e4c1901"
   },
   "outputs": [
    {
     "data": {
      "text/plain": [
       "(L1Loss(),\n",
       " SGD (\n",
       " Parameter Group 0\n",
       "     dampening: 0\n",
       "     differentiable: False\n",
       "     foreach: None\n",
       "     fused: None\n",
       "     lr: 0.01\n",
       "     maximize: False\n",
       "     momentum: 0\n",
       "     nesterov: False\n",
       "     weight_decay: 0\n",
       " ))"
      ]
     },
     "execution_count": 83,
     "metadata": {},
     "output_type": "execute_result"
    }
   ],
   "source": [
    "# Setup loss function\n",
    "loss_fn=nn.L1Loss()\n",
    "\n",
    "#Setup an optimizer (stochastic gradient descent)\n",
    "optimizer=torch.optim.SGD(params=model_0.parameters(),\n",
    "                          lr=0.01)# lr=learning rate=most important hyperparameter you can set\n",
    "\n",
    "loss_fn, optimizer"
   ]
  },
  {
   "cell_type": "markdown",
   "metadata": {
    "id": "g6LX_ry0UThl"
   },
   "source": [
    "*Q* which loss function should I use?\n",
    "*A* This will be problem specific but with experience you'll get an idea of what works what what doesn't\n",
    "\n",
    "For example for a regression a function `nn.L1Loss()` and optimizer like `torch.optim.SGD` will suffice\n",
    "\n",
    "But for classifiocation problems (like photos of cats and dogs) you'll likely use `nn.BCELoss() (binary cross entropy loss)"
   ]
  },
  {
   "cell_type": "markdown",
   "metadata": {
    "id": "5GekEeb_yxC-"
   },
   "source": [
    "### Building a training (and testing) loop in PyTorch\n",
    "\n",
    "A couple things we need in traiing loop:\n",
    "0. Loop through the data\n",
    "1. forward pass(this involves data moving through model's `forward()` functions) to make predictions-also called a forward propogation\n",
    "2. Calculate the loss (compare forward pass predictions to ground truth labels)\n",
    "3. Optimizer zero grad\n",
    "4. Loss backwards - move backwards through the betwork to calculate gradients of each parameters of our model with repsect to loss (**backpropogation**)\n",
    "5. Optimizer step - use optimizer to adjust our model's parameters to try and improve the loss (**gradient descent**)"
   ]
  },
  {
   "cell_type": "code",
   "execution_count": 84,
   "metadata": {
    "colab": {
     "base_uri": "https://localhost:8080/"
    },
    "id": "GWyIuE_SUTfP",
    "outputId": "7db22c69-491c-4db0-b856-26b59f4bc337"
   },
   "outputs": [
    {
     "name": "stdout",
     "output_type": "stream",
     "text": [
      "Epoch 0 | Loss: 0.2260170727968216 | Test loss: 0.634822428226471\n",
      "OrderedDict([('weights', tensor([-0.3540])), ('bias', tensor([0.6032]))])\n",
      "Epoch 100 | Loss: 0.16877111792564392 | Test loss: 0.40467461943626404\n",
      "OrderedDict([('weights', tensor([-0.1403])), ('bias', tensor([0.6432]))])\n",
      "Epoch 200 | Loss: 0.13421662151813507 | Test loss: 0.31302228569984436\n",
      "OrderedDict([('weights', tensor([0.0340])), ('bias', tensor([0.5797]))])\n",
      "Epoch 300 | Loss: 0.09986960142850876 | Test loss: 0.23304660618305206\n",
      "OrderedDict([('weights', tensor([0.2048])), ('bias', tensor([0.5077]))])\n",
      "Epoch 400 | Loss: 0.06553015112876892 | Test loss: 0.15238220989704132\n",
      "OrderedDict([('weights', tensor([0.3757])), ('bias', tensor([0.4362]))])\n",
      "Epoch 500 | Loss: 0.031184528023004532 | Test loss: 0.07240431755781174\n",
      "OrderedDict([('weights', tensor([0.5465])), ('bias', tensor([0.3642]))])\n",
      "Epoch 600 | Loss: 0.003483446780592203 | Test loss: 0.007154440972954035\n",
      "OrderedDict([('weights', tensor([0.6982])), ('bias', tensor([0.3087]))])\n",
      "Epoch 700 | Loss: 0.003483446780592203 | Test loss: 0.007154440972954035\n",
      "OrderedDict([('weights', tensor([0.6982])), ('bias', tensor([0.3087]))])\n",
      "Epoch 800 | Loss: 0.003483446780592203 | Test loss: 0.007154440972954035\n",
      "OrderedDict([('weights', tensor([0.6982])), ('bias', tensor([0.3087]))])\n",
      "Epoch 900 | Loss: 0.003483446780592203 | Test loss: 0.007154440972954035\n",
      "OrderedDict([('weights', tensor([0.6982])), ('bias', tensor([0.3087]))])\n"
     ]
    }
   ],
   "source": [
    "#An epoch is 1 loop through the data...(this is a hyperparameter)\n",
    "epochs=1000\n",
    "\n",
    "#tracking different values\n",
    "epoch_count=[]\n",
    "loss_value=[]\n",
    "test_loss_value=[]\n",
    "\n",
    "##Training\n",
    "#0. Loop through the data\n",
    "for epoch in range(epochs):\n",
    "  #set model to training mode\n",
    "  model_0.train() # train mode in PyTorch sets all parameters that require gradients to require gradients\n",
    "\n",
    "  #1. Forward pass\n",
    "  y_pred=model_0(X_train)\n",
    "\n",
    "  #2. Calculate the loss\n",
    "  loss=loss_fn(y_pred,y_train)\n",
    "  #print(f\"Loss: {loss}\")\n",
    "\n",
    "  #3. Optimizer zero grad\n",
    "  optimizer.zero_grad()\n",
    "\n",
    "  #4. Perform backpropogation on the loss with respect to the parameters of the model\n",
    "  loss.backward()\n",
    "\n",
    "  #5.Step the optimizer (perform gradient descent)\n",
    "  optimizer.step() # by default how optimzer changes will accumulate through the loop so.. we have to zero them above in step 3\n",
    "\n",
    "###Testing\n",
    "  model_0.eval() # turns off gradient tracking and different settings in model not needed for evaluation/testing (dropout/ batch layers)\n",
    "  with torch.inference_mode(): #turns off gradient tracking and a couple more things behind the scenes can also be with torch.no_grad()\n",
    "  #1. Do forward pass still\n",
    "    test_pred=model_0(X_test)\n",
    "\n",
    "  #2. calculate the loss\n",
    "    test_loss=loss_fn(test_pred,y_test)\n",
    "\n",
    "  if epoch%100==0:\n",
    "    epoch_count.append(epoch)\n",
    "    loss_value.append(loss)\n",
    "    test_loss_value.append(test_loss)\n",
    "    print(f\"Epoch {epoch} | Loss: {loss} | Test loss: {test_loss}\")\n",
    "\n",
    "#print out model state_dict()\n",
    "    print(model_0.state_dict())"
   ]
  },
  {
   "cell_type": "code",
   "execution_count": 21,
   "metadata": {
    "colab": {
     "base_uri": "https://localhost:8080/"
    },
    "id": "1sm4-k6WJDeh",
    "outputId": "dc102ec0-7629-4cce-c98f-c1ce5dd7f513"
   },
   "outputs": [
    {
     "data": {
      "text/plain": [
       "(OrderedDict([('weights', tensor([-0.3454])), ('bias', tensor([0.6107]))]),\n",
       " 0.7,\n",
       " 0.3)"
      ]
     },
     "execution_count": 21,
     "metadata": {},
     "output_type": "execute_result"
    }
   ],
   "source": [
    "model_0.state_dict(), weight, bias"
   ]
  },
  {
   "cell_type": "code",
   "execution_count": 88,
   "metadata": {
    "colab": {
     "base_uri": "https://localhost:8080/",
     "height": 489
    },
    "id": "ScxVEGCZUrAk",
    "outputId": "2d9e6203-2f82-45f6-aba9-d00f15d50ad7"
   },
   "outputs": [
    {
     "data": {
      "text/plain": [
       "<matplotlib.legend.Legend at 0x797c03b02fb0>"
      ]
     },
     "execution_count": 88,
     "metadata": {},
     "output_type": "execute_result"
    },
    {
     "data": {
      "image/png": "[encoded data removed]",
      "text/plain": [
       "<Figure size 640x480 with 1 Axes>"
      ]
     },
     "metadata": {},
     "output_type": "display_data"
    }
   ],
   "source": [
    "#plot loss curves\n",
    "import numpy as np\n",
    "#convert tensor to numpy\n",
    "#.cpu() for when on gpu()\n",
    "lsvl=np.array(torch.tensor(loss_value).numpy())\n",
    "Tlsvl=np.array(torch.tensor(test_loss_value).numpy())\n",
    "plt.plot(epoch_count, lsvl, label=\"Train loss\")\n",
    "plt.plot(epoch_count, test_loss_value, label=\"Test loss\")\n",
    "plt.title(\"Training test loss curves\")\n",
    "plt.ylabel(\"loss\")\n",
    "plt.xlabel(\"epoch\")\n",
    "plt.legend()"
   ]
  },
  {
   "cell_type": "code",
   "execution_count": 77,
   "metadata": {
    "id": "znNulr2IUTco"
   },
   "outputs": [],
   "source": [
    "with torch.inference_mode():\n",
    "  y_preds_new5=model_0(X_test)\n",
    "\n",
    "# y_preds_new2 after 100 epochs\n",
    "# y_preds_new3 after 10000 epochs (could probably be less)\n",
    "# y_preds_new4 after 100  epochs with test loop\n",
    "# y_preds_new5 after 1000 epochs with test loop Epoch 900 | Loss: 0.003483446780592203 | Test loss: 0.007154440972954035\n",
    "#OrderedDict([('weights', tensor([0.6982])), ('bias', tensor([0.3087]))])"
   ]
  },
  {
   "cell_type": "code",
   "execution_count": 78,
   "metadata": {
    "colab": {
     "base_uri": "https://localhost:8080/",
     "height": 460
    },
    "id": "jWsT4FYUUTaU",
    "outputId": "013a43a4-2a06-42f3-b879-179988e57405"
   },
   "outputs": [
    {
     "data": {
      "image/png": "[encoded data removed]",
      "text/plain": [
       "<Figure size 1000x700 with 1 Axes>"
      ]
     },
     "metadata": {},
     "output_type": "display_data"
    }
   ],
   "source": [
    "plot_predictions(predictions=y_preds_new5)"
   ]
  },
  {
   "cell_type": "markdown",
   "metadata": {
    "id": "pkYRjeIHUTXu"
   },
   "source": [
    "### Saving a model in PyTorch\n",
    "\n",
    "There are three main methods for saving a loading a model in PyTorch\n",
    "\n",
    "1. `torch.save()` - allows you to save an PyTorch object in Python's pickle format\n",
    "2. `torch.load()` - allows you to load a saved PyTorch object\n",
    "3. `torch.nn.Module.load_state_dict()` - this allows to load a model's saved state dictionary\n",
    "\n",
    "Pytorch save and load tutorial - https://pytorch.org/tutorials/beginner/saving_loading_models.html"
   ]
  },
  {
   "cell_type": "code",
   "execution_count": 91,
   "metadata": {
    "colab": {
     "base_uri": "https://localhost:8080/"
    },
    "id": "ZhcnL9XmUTVM",
    "outputId": "4f4386dd-7d67-4668-8f6f-450d66bec6e0"
   },
   "outputs": [
    {
     "name": "stdout",
     "output_type": "stream",
     "text": [
      "saving model to models/01_PyTorch_Linear_regression_Workflow_model_0.pth\n"
     ]
    }
   ],
   "source": [
    "# Saving out PyTorch model\n",
    "\n",
    "from pathlib import Path\n",
    "\n",
    "#1. create model directory\n",
    "MODEL_PATH=Path(\"models\")\n",
    "MODEL_PATH.mkdir(parents=True, exist_ok=True)\n",
    "\n",
    "#2. Model Save Path\n",
    "\n",
    "MODEL_NAME=\"01_PyTorch_Linear_regression_Workflow_model_0.pth\"\n",
    "MODEL_SAVE_PATH=MODEL_PATH/MODEL_NAME\n",
    "\n",
    "\n",
    "\n",
    "#3. Save the model state_dict()\n",
    "print(f\"saving model to {MODEL_SAVE_PATH}\")\n",
    "torch.save(obj=model_0.state_dict(),f=MODEL_SAVE_PATH)"
   ]
  },
  {
   "cell_type": "code",
   "execution_count": 92,
   "metadata": {
    "colab": {
     "base_uri": "https://localhost:8080/"
    },
    "id": "xoAHvhdIUTSV",
    "outputId": "8dd2add2-53c7-4ce0-d7ba-df574262bedc"
   },
   "outputs": [
    {
     "name": "stdout",
     "output_type": "stream",
     "text": [
      "total 4\n",
      "-rw-r--r-- 1 root root 1852 Jun 12 12:25 01_PyTorch_Linear_regression_Workflow_model_0.pth\n"
     ]
    }
   ],
   "source": [
    "!ls -l models"
   ]
  },
  {
   "cell_type": "markdown",
   "metadata": {
    "id": "7Cwxp2JvE8zI"
   },
   "source": [
    "## Loading a PyTorch model\n",
    "\n",
    "Since we saved our model's `state_dict` rather than the entire model, we'll create a new instance of our model class and load the saved `state_dict` into that"
   ]
  },
  {
   "cell_type": "code",
   "execution_count": 93,
   "metadata": {
    "colab": {
     "base_uri": "https://localhost:8080/"
    },
    "id": "uq4p4rgMappr",
    "outputId": "963119bf-9288-4b6e-92a2-4fda6163fd48"
   },
   "outputs": [
    {
     "name": "stdout",
     "output_type": "stream",
     "text": [
      "loaded_model stats: OrderedDict([('weights', tensor([-0.6968])), ('bias', tensor([-0.5242]))])\n",
      "After loading loaded_model stats: OrderedDict([('weights', tensor([0.6943])), ('bias', tensor([0.2987]))])\n"
     ]
    }
   ],
   "source": [
    "#load in a save state_dict we have to instantiate a new instance of model class\n",
    "loaded_model_0=LinearRegressionModel()\n",
    "print(f\"loaded_model stats: {loaded_model_0.state_dict()}\")\n",
    "#Load the saved state_dict of model_0 (this will update the new instance with updated parameters)\n",
    "loaded_model_0.load_state_dict(torch.load(f=MODEL_SAVE_PATH))\n",
    "print(f\"After loading loaded_model stats: {loaded_model_0.state_dict()}\")"
   ]
  },
  {
   "cell_type": "code",
   "execution_count": 94,
   "metadata": {
    "colab": {
     "base_uri": "https://localhost:8080/"
    },
    "id": "ih1WgOcPapm4",
    "outputId": "f6461710-c9cd-424e-f0e9-24d925b8557d"
   },
   "outputs": [
    {
     "data": {
      "text/plain": [
       "tensor([[True],\n",
       "        [True],\n",
       "        [True],\n",
       "        [True],\n",
       "        [True],\n",
       "        [True],\n",
       "        [True],\n",
       "        [True],\n",
       "        [True],\n",
       "        [True]])"
      ]
     },
     "execution_count": 94,
     "metadata": {},
     "output_type": "execute_result"
    }
   ],
   "source": [
    "# Make some predictions with loaded model\n",
    "\n",
    "loaded_model_0.eval()\n",
    "with torch.inference_mode():\n",
    "  loaded_model_preds=loaded_model_0(X_test)\n",
    "\n",
    "loaded_model_preds\n",
    "\n",
    "#compare loaded with original\n",
    "\n",
    "y_preds_new5==loaded_model_preds"
   ]
  },
  {
   "cell_type": "markdown",
   "metadata": {
    "id": "LYeu9Qnvapi6"
   },
   "source": [
    "##6. Putting it all together\n",
    "\n",
    "Let's go through above steps and see it all in 1 place"
   ]
  },
  {
   "cell_type": "code",
   "execution_count": 95,
   "metadata": {
    "colab": {
     "base_uri": "https://localhost:8080/",
     "height": 35
    },
    "id": "FGDF_Ff7apgS",
    "outputId": "f5a0b2bd-58e0-4f8f-e242-fc6af18a68fd"
   },
   "outputs": [
    {
     "data": {
      "application/vnd.google.colaboratory.intrinsic+json": {
       "type": "string"
      },
      "text/plain": [
       "'2.3.0+cu121'"
      ]
     },
     "execution_count": 95,
     "metadata": {},
     "output_type": "execute_result"
    }
   ],
   "source": [
    "#import PyTorch and matplotlib\n",
    "import torch\n",
    "from torch import nn\n",
    "import matplotlib.pyplot as plt\n",
    "\n",
    "##Check PyTorch version\n",
    "torch.__version__"
   ]
  },
  {
   "cell_type": "markdown",
   "metadata": {
    "id": "h1fjdnX9oKFR"
   },
   "source": [
    "Create DEvice agnostic code.\n",
    "\n",
    "This means if we've got access to a GPU our code will use it but if not available will default to CPU"
   ]
  },
  {
   "cell_type": "code",
   "execution_count": 96,
   "metadata": {
    "colab": {
     "base_uri": "https://localhost:8080/"
    },
    "id": "F-zjWzIJoKBZ",
    "outputId": "43853d2c-dde4-4802-e81b-46c1b91dedc5"
   },
   "outputs": [
    {
     "name": "stdout",
     "output_type": "stream",
     "text": [
      "Using device: cpu\n"
     ]
    }
   ],
   "source": [
    "#Setop device agnostic code\n",
    "device=\"cuda\" if torch.cuda.is_available() else \"cpu\"\n",
    "print(f\"Using device: {device}\")"
   ]
  },
  {
   "cell_type": "markdown",
   "metadata": {
    "id": "bsRytwuNoJ-S"
   },
   "source": [
    "###6.1 Data"
   ]
  },
  {
   "cell_type": "code",
   "execution_count": 97,
   "metadata": {
    "colab": {
     "base_uri": "https://localhost:8080/"
    },
    "id": "cX85DSguoCS5",
    "outputId": "e2ec08b9-85b0-40f1-a3a7-eb850acc6309"
   },
   "outputs": [
    {
     "data": {
      "text/plain": [
       "(tensor([[0.0000],\n",
       "         [0.0200],\n",
       "         [0.0400],\n",
       "         [0.0600],\n",
       "         [0.0800],\n",
       "         [0.1000],\n",
       "         [0.1200],\n",
       "         [0.1400],\n",
       "         [0.1600],\n",
       "         [0.1800]]),\n",
       " tensor([[0.5000],\n",
       "         [0.5100],\n",
       "         [0.5200],\n",
       "         [0.5300],\n",
       "         [0.5400],\n",
       "         [0.5500],\n",
       "         [0.5600],\n",
       "         [0.5700],\n",
       "         [0.5800],\n",
       "         [0.5900]]))"
      ]
     },
     "execution_count": 97,
     "metadata": {},
     "output_type": "execute_result"
    }
   ],
   "source": [
    "#Lets' create some data using weights, biases, y=weight*X+bias\n",
    "\n",
    "weight=0.5\n",
    "bias=0.5\n",
    "\n",
    "#create range\n",
    "start=0\n",
    "end=1\n",
    "step=0.02\n",
    "\n",
    "#create X and y\n",
    "X=torch.arange(start,end,step).unsqueeze(dim=1)#without unsqueeze error will pop up\n",
    "y=weight*X+bias\n",
    "X[:10],y[:10]"
   ]
  },
  {
   "cell_type": "code",
   "execution_count": 99,
   "metadata": {
    "colab": {
     "base_uri": "https://localhost:8080/"
    },
    "id": "0oFIce7uoCIt",
    "outputId": "0d94051b-4c3e-4fa9-f1b3-8dc9e5227942"
   },
   "outputs": [
    {
     "data": {
      "text/plain": [
       "(40, 10, 40, 10)"
      ]
     },
     "execution_count": 99,
     "metadata": {},
     "output_type": "execute_result"
    }
   ],
   "source": [
    "#Split date\n",
    "train_split=int(0.8*len(X))\n",
    "X_train, y_train=X[:train_split], y[:train_split]\n",
    "X_test, y_test=X[train_split:], y[train_split:]\n",
    "len(X_train), len(X_test), len(y_train), len(y_test)"
   ]
  },
  {
   "cell_type": "code",
   "execution_count": 100,
   "metadata": {
    "colab": {
     "base_uri": "https://localhost:8080/",
     "height": 460
    },
    "id": "2GTkbcjrptJs",
    "outputId": "d06267ea-9650-4292-8ee6-310f5f295271"
   },
   "outputs": [
    {
     "data": {
      "image/png": "[encoded data removed]",
      "text/plain": [
       "<Figure size 1000x700 with 1 Axes>"
      ]
     },
     "metadata": {},
     "output_type": "display_data"
    }
   ],
   "source": [
    "#plot Data using plot predictions above\n",
    "plot_predictions(X_train,y_train,X_test,y_test)"
   ]
  },
  {
   "cell_type": "markdown",
   "metadata": {
    "id": "tkGqBGcaptFb"
   },
   "source": [
    "### 6.2 building a PyTorch Linear model"
   ]
  },
  {
   "cell_type": "code",
   "execution_count": 102,
   "metadata": {
    "colab": {
     "base_uri": "https://localhost:8080/"
    },
    "id": "BjbpBhQmptBf",
    "outputId": "af7e5fde-0522-49a7-a199-d04d8011f8ae"
   },
   "outputs": [
    {
     "data": {
      "text/plain": [
       "(LinearRegressionModelV2(\n",
       "   (linear_layer): Linear(in_features=1, out_features=1, bias=True)\n",
       " ),\n",
       " OrderedDict([('linear_layer.weight', tensor([[0.7645]])),\n",
       "              ('linear_layer.bias', tensor([0.8300]))]))"
      ]
     },
     "execution_count": 102,
     "metadata": {},
     "output_type": "execute_result"
    }
   ],
   "source": [
    "#Creat a linear model by subclassing nn.Module\n",
    "class LinearRegressionModelV2(nn.Module):\n",
    "  def __init__(self):\n",
    "    super().__init__()\n",
    "    # Use nn.Linear() instead of nn.Parameter() for creating the model parameters/also called linear transform, probing layer\n",
    "    self.linear_layer=nn.Linear(in_features=1, #\n",
    "                                out_features=1) #\n",
    "\n",
    "  def forward(self,x:torch.Tensor) -> torch.Tensor:\n",
    "    return self.linear_layer(x)\n",
    "\n",
    "#set the manual seed\n",
    "torch.manual_seed(42)\n",
    "model_1=LinearRegressionModelV2()\n",
    "model_1, model_1.state_dict()"
   ]
  },
  {
   "cell_type": "code",
   "execution_count": 106,
   "metadata": {
    "colab": {
     "base_uri": "https://localhost:8080/"
    },
    "id": "GLlzBKAtps9C",
    "outputId": "eb83202c-2888-4f06-b327-a2b11923762c"
   },
   "outputs": [
    {
     "data": {
      "text/plain": [
       "device(type='cpu')"
      ]
     },
     "execution_count": 106,
     "metadata": {},
     "output_type": "execute_result"
    }
   ],
   "source": [
    "# set the model to use target device\n",
    "next(model_1.parameters()).device\n",
    "#if cuda next line would come out as cuda or cpu respectively\n",
    "model_1.to(device)\n",
    "next(model_1.parameters()).device"
   ]
  },
  {
   "cell_type": "markdown",
   "metadata": {
    "id": "2jewIoiRps6O"
   },
   "source": [
    "###6.3 Training Code\n",
    "\n",
    "for traiing we need:\n",
    "* Loss function\n",
    "* Optimizer\n",
    "* Training loop\n",
    "* Testing loop"
   ]
  },
  {
   "cell_type": "code",
   "execution_count": 107,
   "metadata": {
    "colab": {
     "base_uri": "https://localhost:8080/"
    },
    "id": "77LvC3cwqZCg",
    "outputId": "d3a71a7e-fff5-46af-99cc-ce31f8fb0a1a"
   },
   "outputs": [
    {
     "name": "stdout",
     "output_type": "stream",
     "text": [
      "Epoch 0 | Loss: 0.4331779479980469 | Test loss: 0.5938113331794739\n",
      "Epoch 20 | Loss: 0.20275822281837463 | Test loss: 0.32010164856910706\n",
      "Epoch 40 | Loss: 0.022884894162416458 | Test loss: 0.09217360615730286\n",
      "Epoch 60 | Loss: 0.01503742951899767 | Test loss: 0.066162109375\n",
      "Epoch 80 | Loss: 0.008168170228600502 | Test loss: 0.047729410231113434\n",
      "Epoch 100 | Loss: 0.0013097136979922652 | Test loss: 0.02930617891252041\n",
      "Epoch 120 | Loss: 0.0032349228858947754 | Test loss: 0.02010110579431057\n",
      "Epoch 140 | Loss: 0.0032349228858947754 | Test loss: 0.02010110579431057\n",
      "Epoch 160 | Loss: 0.0032349228858947754 | Test loss: 0.02010110579431057\n",
      "Epoch 180 | Loss: 0.0032349228858947754 | Test loss: 0.02010110579431057\n"
     ]
    }
   ],
   "source": [
    "#Setip Loss function\n",
    "loss_fn=nn.L1Loss()# same as Mean absolute Error MAE\n",
    "\n",
    "#Optimizer\n",
    "optimizer=torch.optim.SGD(params=model_1.parameters(),\n",
    "                          lr=0.01)\n",
    "\n",
    "#Let's write training loop\n",
    "torch.manual_seed(42)\n",
    "\n",
    "epochs=200\n",
    "\n",
    "#put data on traget device to prevent errors in difference of model and data device location\n",
    "X_train=X_train.to(device)\n",
    "y_train=y_train.to(device)\n",
    "X_test=X_test.to(device)\n",
    "X_test=y_test.to(device)\n",
    "\n",
    "#tracking different values\n",
    "epoch_count=[]\n",
    "loss_value=[]\n",
    "test_loss_value=[]\n",
    "\n",
    "for epoch in range(epochs):\n",
    "  model_1.train()\n",
    "\n",
    "  #1. Forward pass\n",
    "  y_pred=model_1(X_train)\n",
    "\n",
    "  #2. Calculate the loss\n",
    "  loss=loss_fn(y_pred,y_train)\n",
    "\n",
    "  #3. Optimizer zero graaad\n",
    "  optimizer.zero_grad()\n",
    "\n",
    "  #4. LOOOSSSS BACKWARDs (backpropogation)\n",
    "  loss.backward()\n",
    "\n",
    "  #5.Optimizer step\n",
    "  optimizer.step()\n",
    "\n",
    "\n",
    "  ###Testing###\n",
    "  model_1.eval() #see above\n",
    "  with torch.inference_mode():\n",
    "    test_pred=model_1(X_test)\n",
    "    test_loss=loss_fn(test_pred,y_test)\n",
    "\n",
    "  if epoch%20==0:\n",
    "    epoch_count.append(epoch)\n",
    "    loss_value.append(loss)\n",
    "    test_loss_value.append(test_loss)\n",
    "    print(f\"Epoch {epoch} | Loss: {loss} | Test loss: {test_loss}\")\n",
    "\n"
   ]
  },
  {
   "cell_type": "code",
   "execution_count": 108,
   "metadata": {
    "colab": {
     "base_uri": "https://localhost:8080/",
     "height": 489
    },
    "id": "Md-BLBUftYX8",
    "outputId": "3fd93df7-4855-4c72-8a06-a1ae06ceb1f9"
   },
   "outputs": [
    {
     "data": {
      "text/plain": [
       "<matplotlib.legend.Legend at 0x797c03db2470>"
      ]
     },
     "execution_count": 108,
     "metadata": {},
     "output_type": "execute_result"
    },
    {
     "data": {
      "image/png": "[encoded data removed]",
      "text/plain": [
       "<Figure size 640x480 with 1 Axes>"
      ]
     },
     "metadata": {},
     "output_type": "display_data"
    }
   ],
   "source": [
    "#plot loss curves\n",
    "import numpy as np\n",
    "#convert tensor to numpy\n",
    "#.cpu() for when on gpu()\n",
    "lsvl=np.array(torch.tensor(loss_value).numpy())\n",
    "Tlsvl=np.array(torch.tensor(test_loss_value).numpy())\n",
    "plt.plot(epoch_count, lsvl, label=\"Train loss\")\n",
    "plt.plot(epoch_count, test_loss_value, label=\"Test loss\")\n",
    "plt.title(\"Training test loss curves\")\n",
    "plt.ylabel(\"loss\")\n",
    "plt.xlabel(\"epoch\")\n",
    "plt.legend()"
   ]
  },
  {
   "cell_type": "code",
   "execution_count": 109,
   "metadata": {
    "colab": {
     "base_uri": "https://localhost:8080/"
    },
    "id": "vywOdPMVtYVT",
    "outputId": "e051f132-8516-4c48-ab02-730a95627540"
   },
   "outputs": [
    {
     "data": {
      "text/plain": [
       "OrderedDict([('linear_layer.weight', tensor([[0.5044]])),\n",
       "             ('linear_layer.bias', tensor([0.5015]))])"
      ]
     },
     "execution_count": 109,
     "metadata": {},
     "output_type": "execute_result"
    }
   ],
   "source": [
    "model_1.state_dict()"
   ]
  },
  {
   "cell_type": "markdown",
   "metadata": {
    "id": "iz54d8X3v0xv"
   },
   "source": [
    "###6.4 Making and evaulating predictions"
   ]
  },
  {
   "cell_type": "code",
   "execution_count": 111,
   "metadata": {
    "colab": {
     "base_uri": "https://localhost:8080/"
    },
    "id": "iHH5wZeftYQ6",
    "outputId": "8c997b42-f941-4d8f-9324-8b6a00eac353"
   },
   "outputs": [
    {
     "data": {
      "text/plain": [
       "tensor([[0.9555],\n",
       "        [0.9605],\n",
       "        [0.9656],\n",
       "        [0.9706],\n",
       "        [0.9757],\n",
       "        [0.9807],\n",
       "        [0.9858],\n",
       "        [0.9908],\n",
       "        [0.9958],\n",
       "        [1.0009]])"
      ]
     },
     "execution_count": 111,
     "metadata": {},
     "output_type": "execute_result"
    }
   ],
   "source": [
    "#Turn model into evaluation mode\n",
    "model_1.eval()\n",
    "\n",
    "#Make predictions with test data\n",
    "with torch.inference_mode():\n",
    "  y_preds=model_1(X_test)\n",
    "\n",
    "y_preds"
   ]
  },
  {
   "cell_type": "code",
   "execution_count": 113,
   "metadata": {
    "colab": {
     "base_uri": "https://localhost:8080/",
     "height": 460
    },
    "id": "pgbD0nI3tYOi",
    "outputId": "6b93e38f-36f0-4c86-9c69-fd7c569de001"
   },
   "outputs": [
    {
     "data": {
      "image/png": "[encoded data removed]",
      "text/plain": [
       "<Figure size 1000x700 with 1 Axes>"
      ]
     },
     "metadata": {},
     "output_type": "display_data"
    }
   ],
   "source": [
    "plot_predictions(predictions=y_preds)"
   ]
  },
  {
   "cell_type": "markdown",
   "metadata": {
    "id": "SKArwM7AqY6m"
   },
   "source": [
    "###6.5 Saving and loading a trained model"
   ]
  },
  {
   "cell_type": "code",
   "execution_count": 116,
   "metadata": {
    "colab": {
     "base_uri": "https://localhost:8080/"
    },
    "id": "_MiVyzRIwxbv",
    "outputId": "75a0f1cc-7290-4f45-97b2-f7fa6dafcdb3"
   },
   "outputs": [
    {
     "name": "stdout",
     "output_type": "stream",
     "text": [
      "saving model to: models/01_PyTorch_Linear_regression_Workflow_model_1.pth\n"
     ]
    }
   ],
   "source": [
    "# Saving out PyTorch model\n",
    "\n",
    "from pathlib import Path\n",
    "\n",
    "#1. create model directory\n",
    "MODEL_PATH=Path(\"models\")\n",
    "MODEL_PATH.mkdir(parents=True, exist_ok=True)\n",
    "\n",
    "#2. Model Save Path\n",
    "\n",
    "MODEL_NAME=\"01_PyTorch_Linear_regression_Workflow_model_1.pth\"\n",
    "MODEL_SAVE_PATH=MODEL_PATH/MODEL_NAME\n",
    "\n",
    "\n",
    "\n",
    "#3. Save the model state_dict()\n",
    "print(f\"saving model to: {MODEL_SAVE_PATH}\")\n",
    "torch.save(obj=model_1.state_dict(),f=MODEL_SAVE_PATH)"
   ]
  },
  {
   "cell_type": "code",
   "execution_count": 118,
   "metadata": {
    "colab": {
     "base_uri": "https://localhost:8080/"
    },
    "id": "6_NMiQ1ZxAH-",
    "outputId": "b4cb71da-73df-4838-bd61-8490ba256348"
   },
   "outputs": [
    {
     "name": "stdout",
     "output_type": "stream",
     "text": [
      "loaded_model stats: OrderedDict([('linear_layer.weight', tensor([[-0.2191]])), ('linear_layer.bias', tensor([0.2018]))])\n",
      "After loading loaded_model stats: OrderedDict([('linear_layer.weight', tensor([[0.5044]])), ('linear_layer.bias', tensor([0.5015]))])\n"
     ]
    },
    {
     "data": {
      "text/plain": [
       "LinearRegressionModelV2(\n",
       "  (linear_layer): Linear(in_features=1, out_features=1, bias=True)\n",
       ")"
      ]
     },
     "execution_count": 118,
     "metadata": {},
     "output_type": "execute_result"
    }
   ],
   "source": [
    "# Load a PyTorch model\n",
    "#create new instance of LRM V2\n",
    "loaded_model_1=LinearRegressionModelV2()\n",
    "print(f\"loaded_model stats: {loaded_model_1.state_dict()}\")\n",
    "\n",
    "#load model state dict\n",
    "loaded_model_1.load_state_dict(torch.load(f=MODEL_SAVE_PATH))\n",
    "print(f\"After loading loaded_model stats: {loaded_model_1.state_dict()}\")\n",
    "\n",
    "#Put model to device\n",
    "loaded_model_1.to(device)"
   ]
  },
  {
   "cell_type": "code",
   "execution_count": 120,
   "metadata": {
    "colab": {
     "base_uri": "https://localhost:8080/"
    },
    "id": "XkzaiZ-sxAC4",
    "outputId": "7367b53f-ec4a-4692-ddcd-20a249c4faed"
   },
   "outputs": [
    {
     "data": {
      "text/plain": [
       "tensor([[True],\n",
       "        [True],\n",
       "        [True],\n",
       "        [True],\n",
       "        [True],\n",
       "        [True],\n",
       "        [True],\n",
       "        [True],\n",
       "        [True],\n",
       "        [True]])"
      ]
     },
     "execution_count": 120,
     "metadata": {},
     "output_type": "execute_result"
    }
   ],
   "source": [
    "# Evaluate loaded model\n",
    "\n",
    "loaded_model_1.eval()\n",
    "with torch.inference_mode():\n",
    "  loaded_model_1_preds=loaded_model_1(X_test)\n",
    "\n",
    "loaded_model_1_preds\n",
    "\n",
    "#compare loaded with original\n",
    "\n",
    "y_preds==loaded_model_1_preds"
   ]
  },
  {
   "cell_type": "markdown",
   "metadata": {
    "id": "FlyUz0Qvw_-b"
   },
   "source": [
    "## Exercises & Extra-curriculum\n",
    "\n",
    "Refer to: https://www.learnpytorch.io/01_pytorch_workflow/"
   ]
  },
  {
   "cell_type": "code",
   "execution_count": null,
   "metadata": {
    "id": "rgtliE2YzQwb"
   },
   "outputs": [],
   "source": []
  },
  {
   "cell_type": "code",
   "execution_count": null,
   "metadata": {
    "id": "T9BA4jKKzQti"
   },
   "outputs": [],
   "source": []
  }
 ],
 "metadata": {
  "colab": {
   "provenance": []
  },
  "kernelspec": {
   "display_name": "Python 3 (ipykernel)",
   "language": "python",
   "name": "python3"
  },
  "language_info": {
   "codemirror_mode": {
    "name": "ipython",
    "version": 3
   },
   "file_extension": ".py",
   "mimetype": "text/x-python",
   "name": "python",
   "nbconvert_exporter": "python",
   "pygments_lexer": "ipython3",
   "version": "3.9.7"
  }
 },
 "nbformat": 4,
 "nbformat_minor": 1
}
